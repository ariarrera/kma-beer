{
 "cells": [
  {
   "cell_type": "markdown",
   "metadata": {
    "colab_type": "text",
    "id": "YD5bISRrHJ0I"
   },
   "source": [
    "# Финальный проект по треку ML\n",
    "### Автор: Анна Мороз, 3 курс\n",
    "\n",
    "\n"
   ]
  },
  {
   "cell_type": "markdown",
   "metadata": {
    "colab_type": "text",
    "id": "LeVBA6Tqavfo"
   },
   "source": [
    "#### Введение\n",
    "Для выполнения этого проекта я выбрала KMAtest Kaggle Competition, основной задачей которого является сделать наиболее точной предсказание общей оценки пива (переменная review_overall) по шкале от 1 до 5, основываясь на таких зависимых переменных как название пивоварни и самого пива, время оценки, оценка запаха пива, его внешнего вида, вкуса, ощущений на вкусовых рецепторах (review_palate), имя оценивающего и процентное содержание алкоголя.\n",
    "Данные для этого соревнования доступны по ссылке: <https://www.kaggle.com/c/kmatest1/data> "
   ]
  },
  {
   "cell_type": "markdown",
   "metadata": {
    "colab_type": "text",
    "id": "vvrxipajHHpH"
   },
   "source": [
    "Итак, let's get started.\n",
    "Для начала загрузим все библиотеки, которые могут понадобиться в процессе."
   ]
  },
  {
   "cell_type": "code",
   "execution_count": 1,
   "metadata": {
    "colab": {},
    "colab_type": "code",
    "id": "79eTPNTOHt8Z"
   },
   "outputs": [
    {
     "ename": "ModuleNotFoundError",
     "evalue": "No module named 'mlxtend'",
     "output_type": "error",
     "traceback": [
      "\u001b[1;31m---------------------------------------------------------------------------\u001b[0m",
      "\u001b[1;31mModuleNotFoundError\u001b[0m                       Traceback (most recent call last)",
      "\u001b[1;32m<ipython-input-1-38f0dd9ff2c8>\u001b[0m in \u001b[0;36m<module>\u001b[1;34m\u001b[0m\n\u001b[0;32m     11\u001b[0m \u001b[1;32mfrom\u001b[0m \u001b[0msklearn\u001b[0m\u001b[1;33m.\u001b[0m\u001b[0mmodel_selection\u001b[0m \u001b[1;32mimport\u001b[0m \u001b[0mtrain_test_split\u001b[0m\u001b[1;33m\u001b[0m\u001b[1;33m\u001b[0m\u001b[0m\n\u001b[0;32m     12\u001b[0m \u001b[1;32mfrom\u001b[0m \u001b[0msklearn\u001b[0m\u001b[1;33m.\u001b[0m\u001b[0mmetrics\u001b[0m \u001b[1;32mimport\u001b[0m \u001b[0mmean_squared_error\u001b[0m\u001b[1;33m\u001b[0m\u001b[1;33m\u001b[0m\u001b[0m\n\u001b[1;32m---> 13\u001b[1;33m \u001b[1;32mfrom\u001b[0m \u001b[0mmlxtend\u001b[0m\u001b[1;33m.\u001b[0m\u001b[0mregressor\u001b[0m \u001b[1;32mimport\u001b[0m \u001b[0mStackingCVRegressor\u001b[0m\u001b[1;33m\u001b[0m\u001b[1;33m\u001b[0m\u001b[0m\n\u001b[0m\u001b[0;32m     14\u001b[0m \u001b[1;32mfrom\u001b[0m \u001b[0msklearn\u001b[0m\u001b[1;33m.\u001b[0m\u001b[0mtree\u001b[0m \u001b[1;32mimport\u001b[0m \u001b[0mDecisionTreeRegressor\u001b[0m\u001b[1;33m\u001b[0m\u001b[1;33m\u001b[0m\u001b[0m\n\u001b[0;32m     15\u001b[0m \u001b[1;32mfrom\u001b[0m \u001b[0mxgboost\u001b[0m \u001b[1;32mimport\u001b[0m \u001b[0mXGBRegressor\u001b[0m\u001b[1;33m\u001b[0m\u001b[1;33m\u001b[0m\u001b[0m\n",
      "\u001b[1;31mModuleNotFoundError\u001b[0m: No module named 'mlxtend'"
     ]
    }
   ],
   "source": [
    "import numpy as np \n",
    "import pandas as pd \n",
    "\n",
    "import matplotlib.gridspec as gridspec\n",
    "from sklearn.linear_model import ElasticNetCV, LassoCV, RidgeCV\n",
    "from sklearn.ensemble import GradientBoostingRegressor\n",
    "from sklearn.ensemble import RandomForestRegressor\n",
    "from sklearn.pipeline import make_pipeline\n",
    "from sklearn.preprocessing import RobustScaler\n",
    "from sklearn.model_selection import KFold, cross_val_score\n",
    "from sklearn.model_selection import train_test_split\n",
    "from sklearn.metrics import mean_squared_error\n",
    "from mlxtend.regressor import StackingCVRegressor\n",
    "from sklearn.tree import DecisionTreeRegressor\n",
    "from xgboost import XGBRegressor\n",
    "from lightgbm import LGBMRegressor\n",
    "import matplotlib.pyplot as plt\n",
    "import matplotlib.style as style\n",
    "import seaborn as sns\n",
    "\n",
    "import warnings\n",
    "warnings.filterwarnings('ignore')\n",
    "\n",
    "from pylab import rcParams\n",
    "rcParams['figure.figsize'] = 16, 10 "
   ]
  },
  {
   "cell_type": "markdown",
   "metadata": {
    "colab_type": "text",
    "id": "pRhXFII1g9Ni"
   },
   "source": [
    "Теперь загрузим данные, с которыми будем работать. Так как у меня были некоторые проблемы с Kaggle API, я для своего удобства и сохранения времени загрузила оба доступных датасета (train.csv и test.csv) в репозиторий Google Colaboratory и уже оттуда подгружаю их в рабочий notebook. \n",
    "Датасет test.csv понадобится только ближе к концу для создания файла с предсказаниями для отправки на Kaggle, поэтому сейчас давайте загрузим и посмотрем на датасет train.csv, по которому будут обучаться модели и будет оцениваться их точность."
   ]
  },
  {
   "cell_type": "code",
   "execution_count": 4,
   "metadata": {
    "colab": {
     "base_uri": "https://localhost:8080/",
     "height": 385
    },
    "colab_type": "code",
    "id": "OnHWpZT_IFM3",
    "outputId": "a7f32b79-2489-46c2-c1be-883de7404a5e"
   },
   "outputs": [
    {
     "data": {
      "text/html": [
       "<div>\n",
       "<style scoped>\n",
       "    .dataframe tbody tr th:only-of-type {\n",
       "        vertical-align: middle;\n",
       "    }\n",
       "\n",
       "    .dataframe tbody tr th {\n",
       "        vertical-align: top;\n",
       "    }\n",
       "\n",
       "    .dataframe thead th {\n",
       "        text-align: right;\n",
       "    }\n",
       "</style>\n",
       "<table border=\"1\" class=\"dataframe\">\n",
       "  <thead>\n",
       "    <tr style=\"text-align: right;\">\n",
       "      <th></th>\n",
       "      <th>brewery_id</th>\n",
       "      <th>brewery_name</th>\n",
       "      <th>review_time</th>\n",
       "      <th>review_overall</th>\n",
       "      <th>review_aroma</th>\n",
       "      <th>review_appearance</th>\n",
       "      <th>review_profilename</th>\n",
       "      <th>beer_style</th>\n",
       "      <th>review_palate</th>\n",
       "      <th>review_taste</th>\n",
       "      <th>beer_name</th>\n",
       "      <th>beer_abv</th>\n",
       "      <th>beer_beerid</th>\n",
       "      <th>id</th>\n",
       "    </tr>\n",
       "  </thead>\n",
       "  <tbody>\n",
       "    <tr>\n",
       "      <th>0</th>\n",
       "      <td>184</td>\n",
       "      <td>Bierbrouwerij De Koningshoeven B.V.</td>\n",
       "      <td>1245476843</td>\n",
       "      <td>4.0</td>\n",
       "      <td>4.0</td>\n",
       "      <td>3.5</td>\n",
       "      <td>ChainGangGuy</td>\n",
       "      <td>Quadrupel (Quad)</td>\n",
       "      <td>4.0</td>\n",
       "      <td>4.0</td>\n",
       "      <td>La Trappe Quadrupel (Koningshoeven / Dominus)</td>\n",
       "      <td>10.0</td>\n",
       "      <td>1402</td>\n",
       "      <td>1</td>\n",
       "    </tr>\n",
       "    <tr>\n",
       "      <th>1</th>\n",
       "      <td>192</td>\n",
       "      <td>New Belgium Brewing</td>\n",
       "      <td>1232935341</td>\n",
       "      <td>4.0</td>\n",
       "      <td>3.0</td>\n",
       "      <td>4.0</td>\n",
       "      <td>ChainGangGuy</td>\n",
       "      <td>American Amber / Red Ale</td>\n",
       "      <td>3.0</td>\n",
       "      <td>3.5</td>\n",
       "      <td>Fat Tire Amber Ale</td>\n",
       "      <td>5.2</td>\n",
       "      <td>607</td>\n",
       "      <td>2</td>\n",
       "    </tr>\n",
       "    <tr>\n",
       "      <th>2</th>\n",
       "      <td>2210</td>\n",
       "      <td>Firestone Walker Brewing Co.</td>\n",
       "      <td>1273891780</td>\n",
       "      <td>3.0</td>\n",
       "      <td>3.0</td>\n",
       "      <td>3.5</td>\n",
       "      <td>womencantsail</td>\n",
       "      <td>American Pale Wheat Ale</td>\n",
       "      <td>3.5</td>\n",
       "      <td>3.0</td>\n",
       "      <td>Solace</td>\n",
       "      <td>6.0</td>\n",
       "      <td>57242</td>\n",
       "      <td>3</td>\n",
       "    </tr>\n",
       "    <tr>\n",
       "      <th>3</th>\n",
       "      <td>1114</td>\n",
       "      <td>Bullfrog Brewery</td>\n",
       "      <td>1276460993</td>\n",
       "      <td>4.0</td>\n",
       "      <td>4.5</td>\n",
       "      <td>4.0</td>\n",
       "      <td>womencantsail</td>\n",
       "      <td>American Wild Ale</td>\n",
       "      <td>5.0</td>\n",
       "      <td>4.5</td>\n",
       "      <td>Black Cherry Bomb</td>\n",
       "      <td>NaN</td>\n",
       "      <td>44934</td>\n",
       "      <td>4</td>\n",
       "    </tr>\n",
       "    <tr>\n",
       "      <th>4</th>\n",
       "      <td>6045</td>\n",
       "      <td>Iron Hill Brewery &amp; Restaurant</td>\n",
       "      <td>1304735131</td>\n",
       "      <td>4.0</td>\n",
       "      <td>4.5</td>\n",
       "      <td>4.0</td>\n",
       "      <td>akorsak</td>\n",
       "      <td>Saison / Farmhouse Ale</td>\n",
       "      <td>4.0</td>\n",
       "      <td>4.5</td>\n",
       "      <td>Samurai Saison</td>\n",
       "      <td>6.8</td>\n",
       "      <td>68766</td>\n",
       "      <td>5</td>\n",
       "    </tr>\n",
       "  </tbody>\n",
       "</table>\n",
       "</div>"
      ],
      "text/plain": [
       "   brewery_id                         brewery_name  ...  beer_beerid  id\n",
       "0         184  Bierbrouwerij De Koningshoeven B.V.  ...         1402   1\n",
       "1         192                  New Belgium Brewing  ...          607   2\n",
       "2        2210         Firestone Walker Brewing Co.  ...        57242   3\n",
       "3        1114                     Bullfrog Brewery  ...        44934   4\n",
       "4        6045       Iron Hill Brewery & Restaurant  ...        68766   5\n",
       "\n",
       "[5 rows x 14 columns]"
      ]
     },
     "execution_count": 4,
     "metadata": {
      "tags": []
     },
     "output_type": "execute_result"
    }
   ],
   "source": [
    "beer_train = pd.read_csv(\"train.csv\")\n",
    "beer_train.head()"
   ]
  },
  {
   "cell_type": "code",
   "execution_count": 6,
   "metadata": {
    "colab": {
     "base_uri": "https://localhost:8080/",
     "height": 334
    },
    "colab_type": "code",
    "id": "X_iWv2zf6acU",
    "outputId": "44e8c3c2-e3ba-4a6b-a271-195c1700f5e8"
   },
   "outputs": [
    {
     "name": "stdout",
     "output_type": "stream",
     "text": [
      "<class 'pandas.core.frame.DataFrame'>\n",
      "RangeIndex: 7859 entries, 0 to 7858\n",
      "Data columns (total 14 columns):\n",
      "brewery_id            7859 non-null int64\n",
      "brewery_name          7859 non-null object\n",
      "review_time           7859 non-null int64\n",
      "review_overall        7859 non-null float64\n",
      "review_aroma          7859 non-null float64\n",
      "review_appearance     7859 non-null float64\n",
      "review_profilename    7859 non-null object\n",
      "beer_style            7859 non-null object\n",
      "review_palate         7859 non-null float64\n",
      "review_taste          7859 non-null float64\n",
      "beer_name             7859 non-null object\n",
      "beer_abv              7180 non-null float64\n",
      "beer_beerid           7859 non-null int64\n",
      "id                    7859 non-null int64\n",
      "dtypes: float64(6), int64(4), object(4)\n",
      "memory usage: 859.7+ KB\n"
     ]
    }
   ],
   "source": [
    "beer_train.info()"
   ]
  },
  {
   "cell_type": "markdown",
   "metadata": {
    "colab_type": "text",
    "id": "-SPrTowUjLNc"
   },
   "source": [
    "#### Эксплораторный анализ\n",
    "Датасет содержит в себе 7 589 наблюдений и 14 переменных, вместе с предсказываемой переменной. 10 переменных являются числовыми, а оставшиеся 4 - категориальными. \n",
    "Давайте проведем небольшую разведку данных и выясним, действительно ли все переменные так уж необходимы для построения хорошего предсказания. \n",
    "Во-первых, посмотрим, сколько и в каких колонках содержатся пропущенные значения."
   ]
  },
  {
   "cell_type": "code",
   "execution_count": 7,
   "metadata": {
    "colab": {
     "base_uri": "https://localhost:8080/",
     "height": 50
    },
    "colab_type": "code",
    "id": "WEMVNRlo9Bcx",
    "outputId": "d5bddd86-e738-4487-b6eb-8d495a78c4df"
   },
   "outputs": [
    {
     "data": {
      "text/plain": [
       "beer_abv    679\n",
       "dtype: int64"
      ]
     },
     "execution_count": 7,
     "metadata": {
      "tags": []
     },
     "output_type": "execute_result"
    }
   ],
   "source": [
    "beer_train.isna().sum()[beer_train.isna().sum()>0] "
   ]
  },
  {
   "cell_type": "markdown",
   "metadata": {
    "colab_type": "text",
    "id": "AZLQRkdBkLII"
   },
   "source": [
    "Судя по всему, отсутствуют значения только в одной переменной, beer_abv, состаляя около 8%. Что не так уж много.\n",
    "Далее я бы хотела в визуализировать числовые переменные-предикторы и посмотреть на их корреляцию с предсказываемой  переменной. Однако, чтобы это сделать, мне нужно предварительно избавиться от переменных, содержащих в себе id. Так как смысла для модели они в себе не несут, а тип у них числовой."
   ]
  },
  {
   "cell_type": "code",
   "execution_count": 8,
   "metadata": {
    "colab": {
     "base_uri": "https://localhost:8080/",
     "height": 284
    },
    "colab_type": "code",
    "id": "QjLk7KgDZyax",
    "outputId": "a08aea03-95cf-48ef-c5cf-e566c4ae7568"
   },
   "outputs": [
    {
     "name": "stdout",
     "output_type": "stream",
     "text": [
      "<class 'pandas.core.frame.DataFrame'>\n",
      "RangeIndex: 7859 entries, 0 to 7858\n",
      "Data columns (total 11 columns):\n",
      "brewery_name          7859 non-null object\n",
      "review_time           7859 non-null int64\n",
      "review_overall        7859 non-null float64\n",
      "review_aroma          7859 non-null float64\n",
      "review_appearance     7859 non-null float64\n",
      "review_profilename    7859 non-null object\n",
      "beer_style            7859 non-null object\n",
      "review_palate         7859 non-null float64\n",
      "review_taste          7859 non-null float64\n",
      "beer_name             7859 non-null object\n",
      "beer_abv              7180 non-null float64\n",
      "dtypes: float64(6), int64(1), object(4)\n",
      "memory usage: 675.5+ KB\n"
     ]
    }
   ],
   "source": [
    "train = beer_train.drop(['brewery_id', 'id', 'beer_beerid'], axis=1) \n",
    "train.info()"
   ]
  },
  {
   "cell_type": "markdown",
   "metadata": {
    "colab_type": "text",
    "id": "6bxuy5XklvvC"
   },
   "source": [
    "От ненужного избавились, можно строить гистограммы по числовым переменным."
   ]
  },
  {
   "cell_type": "code",
   "execution_count": 9,
   "metadata": {
    "colab": {
     "base_uri": "https://localhost:8080/",
     "height": 788
    },
    "colab_type": "code",
    "id": "LkD-f9kk9dBJ",
    "outputId": "068399eb-712e-4812-e731-cdcd93227a93"
   },
   "outputs": [
    {
     "data": {
      "text/plain": [
       "array([[<matplotlib.axes._subplots.AxesSubplot object at 0x7fee7a986518>,\n",
       "        <matplotlib.axes._subplots.AxesSubplot object at 0x7fee7a962da0>,\n",
       "        <matplotlib.axes._subplots.AxesSubplot object at 0x7fee7a918780>],\n",
       "       [<matplotlib.axes._subplots.AxesSubplot object at 0x7fee7a8d2160>,\n",
       "        <matplotlib.axes._subplots.AxesSubplot object at 0x7fee7a87bb00>,\n",
       "        <matplotlib.axes._subplots.AxesSubplot object at 0x7fee7a8b14e0>],\n",
       "       [<matplotlib.axes._subplots.AxesSubplot object at 0x7fee7a85de80>,\n",
       "        <matplotlib.axes._subplots.AxesSubplot object at 0x7fee7a810898>,\n",
       "        <matplotlib.axes._subplots.AxesSubplot object at 0x7fee7a8108d0>]],\n",
       "      dtype=object)"
      ]
     },
     "execution_count": 9,
     "metadata": {
      "tags": []
     },
     "output_type": "execute_result"
    },
    {
     "data": {
      "image/png": "[encoded data removed]",
      "text/plain": [
       "<Figure size 1152x720 with 9 Axes>"
      ]
     },
     "metadata": {
      "tags": []
     },
     "output_type": "display_data"
    }
   ],
   "source": [
    "sns.set_style(\"whitegrid\")\n",
    "train.select_dtypes(include=np.number).hist()"
   ]
  },
  {
   "cell_type": "markdown",
   "metadata": {
    "colab_type": "text",
    "id": "Dze7usdJl8QK"
   },
   "source": [
    "Судя по визуализации, предсказываемая переменная распределенна почти нормально, но ее распределение немного скошено вправо.\n",
    "Теперь давайте глянем на корреляции."
   ]
  },
  {
   "cell_type": "code",
   "execution_count": 10,
   "metadata": {
    "colab": {
     "base_uri": "https://localhost:8080/",
     "height": 133
    },
    "colab_type": "code",
    "id": "spEeDKl9Yn8_",
    "outputId": "52fcdc71-63c4-4a50-95d4-dd926f61fbf3"
   },
   "outputs": [
    {
     "data": {
      "text/plain": [
       "review_taste         0.733620\n",
       "review_aroma         0.548199\n",
       "review_palate        0.490436\n",
       "review_appearance    0.251971\n",
       "beer_abv             0.008394\n",
       "review_time          0.004874\n",
       "Name: review_overall, dtype: float64"
      ]
     },
     "execution_count": 10,
     "metadata": {
      "tags": []
     },
     "output_type": "execute_result"
    }
   ],
   "source": [
    "(train.corr()**2)[\"review_overall\"].sort_values(ascending = False)[1:]"
   ]
  },
  {
   "cell_type": "markdown",
   "metadata": {
    "colab_type": "text",
    "id": "1oI6V7awad4Q"
   },
   "source": [
    "Переменные review_time и beer_abv коррелируют с предсказываемой переменной очень слабо. Скорее всего их эффект в предсказании будет незначительным, а значит их можно убрать.\n",
    "Ради интереса визуализируем отношения каждой из оставшихся числовых переменных-предикторов и предсказываемой переменной."
   ]
  },
  {
   "cell_type": "code",
   "execution_count": 11,
   "metadata": {
    "colab": {
     "base_uri": "https://localhost:8080/",
     "height": 457
    },
    "colab_type": "code",
    "id": "607HByMuifk9",
    "outputId": "0e4773cf-6c12-4cfe-c0b0-69c523bd717f"
   },
   "outputs": [
    {
     "data": {
      "text/plain": [
       "<seaborn.axisgrid.JointGrid at 0x7fee7a1950f0>"
      ]
     },
     "execution_count": 11,
     "metadata": {
      "tags": []
     },
     "output_type": "execute_result"
    },
    {
     "data": {
      "image/png": "[encoded data removed]",
      "text/plain": [
       "<Figure size 432x432 with 3 Axes>"
      ]
     },
     "metadata": {
      "tags": []
     },
     "output_type": "display_data"
    }
   ],
   "source": [
    "# переменная 'review_appearance'\n",
    "sns.jointplot(x = \"review_appearance\", y = \"review_overall\", data = train, kind = \"reg\", color = 'red')"
   ]
  },
  {
   "cell_type": "code",
   "execution_count": 12,
   "metadata": {
    "colab": {
     "base_uri": "https://localhost:8080/",
     "height": 457
    },
    "colab_type": "code",
    "id": "7svbuL4aeo1-",
    "outputId": "e39a5a28-dc8d-4c5b-d897-ea1de60af118"
   },
   "outputs": [
    {
     "data": {
      "text/plain": [
       "<seaborn.axisgrid.JointGrid at 0x7fee97781e80>"
      ]
     },
     "execution_count": 12,
     "metadata": {
      "tags": []
     },
     "output_type": "execute_result"
    },
    {
     "data": {
      "image/png": "[encoded data removed]",
      "text/plain": [
       "<Figure size 432x432 with 3 Axes>"
      ]
     },
     "metadata": {
      "tags": []
     },
     "output_type": "display_data"
    }
   ],
   "source": [
    "# переменная 'review_aroma'\n",
    "sns.jointplot(x = \"review_aroma\", y = \"review_overall\", data = train, kind = \"reg\", color = 'red')"
   ]
  },
  {
   "cell_type": "code",
   "execution_count": 13,
   "metadata": {
    "colab": {
     "base_uri": "https://localhost:8080/",
     "height": 457
    },
    "colab_type": "code",
    "id": "FYv_q49lfSCm",
    "outputId": "86969d06-ddf0-4693-ee98-e8b7b8cd781c"
   },
   "outputs": [
    {
     "data": {
      "text/plain": [
       "<seaborn.axisgrid.JointGrid at 0x7fee7a8487b8>"
      ]
     },
     "execution_count": 13,
     "metadata": {
      "tags": []
     },
     "output_type": "execute_result"
    },
    {
     "data": {
      "image/png": "[encoded data removed]",
      "text/plain": [
       "<Figure size 432x432 with 3 Axes>"
      ]
     },
     "metadata": {
      "tags": []
     },
     "output_type": "display_data"
    }
   ],
   "source": [
    "# переменная 'review_palate'\n",
    "sns.jointplot(x = \"review_palate\", y = \"review_overall\", data = train, kind = \"reg\", color = 'red')"
   ]
  },
  {
   "cell_type": "code",
   "execution_count": 14,
   "metadata": {
    "colab": {
     "base_uri": "https://localhost:8080/",
     "height": 457
    },
    "colab_type": "code",
    "id": "lTMzBAcHfg7n",
    "outputId": "202ffe87-da6f-4deb-c96e-d20524c36237"
   },
   "outputs": [
    {
     "data": {
      "text/plain": [
       "<seaborn.axisgrid.JointGrid at 0x7fee7620e908>"
      ]
     },
     "execution_count": 14,
     "metadata": {
      "tags": []
     },
     "output_type": "execute_result"
    },
    {
     "data": {
      "image/png": "[encoded data removed]",
      "text/plain": [
       "<Figure size 432x432 with 3 Axes>"
      ]
     },
     "metadata": {
      "tags": []
     },
     "output_type": "display_data"
    }
   ],
   "source": [
    "# переменная 'review_taste'\n",
    "sns.jointplot(x = \"review_taste\", y = \"review_overall\", data = train, kind = \"reg\", color = 'red')"
   ]
  },
  {
   "cell_type": "markdown",
   "metadata": {
    "colab_type": "text",
    "id": "LyLSAvktnMB3"
   },
   "source": [
    "И хотя скаттерплоты выглядят немного необычно из-за того, что все переменные, используемые в них, являются дискретными, тренд зависимости четко прослеживается.\n",
    "Окей, с числовыми закончили, переходим к категориальным. Давайте посмотрем на статистику по данным в них."
   ]
  },
  {
   "cell_type": "code",
   "execution_count": 15,
   "metadata": {
    "colab": {
     "base_uri": "https://localhost:8080/",
     "height": 168
    },
    "colab_type": "code",
    "id": "YGdVFXxafoYK",
    "outputId": "d54b671a-3353-4a18-951b-940a61edaef1"
   },
   "outputs": [
    {
     "data": {
      "text/html": [
       "<div>\n",
       "<style scoped>\n",
       "    .dataframe tbody tr th:only-of-type {\n",
       "        vertical-align: middle;\n",
       "    }\n",
       "\n",
       "    .dataframe tbody tr th {\n",
       "        vertical-align: top;\n",
       "    }\n",
       "\n",
       "    .dataframe thead th {\n",
       "        text-align: right;\n",
       "    }\n",
       "</style>\n",
       "<table border=\"1\" class=\"dataframe\">\n",
       "  <thead>\n",
       "    <tr style=\"text-align: right;\">\n",
       "      <th></th>\n",
       "      <th>brewery_name</th>\n",
       "      <th>review_profilename</th>\n",
       "      <th>beer_style</th>\n",
       "      <th>beer_name</th>\n",
       "    </tr>\n",
       "  </thead>\n",
       "  <tbody>\n",
       "    <tr>\n",
       "      <th>count</th>\n",
       "      <td>7859</td>\n",
       "      <td>7859</td>\n",
       "      <td>7859</td>\n",
       "      <td>7859</td>\n",
       "    </tr>\n",
       "    <tr>\n",
       "      <th>unique</th>\n",
       "      <td>862</td>\n",
       "      <td>4</td>\n",
       "      <td>103</td>\n",
       "      <td>5189</td>\n",
       "    </tr>\n",
       "    <tr>\n",
       "      <th>top</th>\n",
       "      <td>Tröegs Brewing Company</td>\n",
       "      <td>BuckeyeNation</td>\n",
       "      <td>American IPA</td>\n",
       "      <td>Pale Ale</td>\n",
       "    </tr>\n",
       "    <tr>\n",
       "      <th>freq</th>\n",
       "      <td>155</td>\n",
       "      <td>2347</td>\n",
       "      <td>523</td>\n",
       "      <td>16</td>\n",
       "    </tr>\n",
       "  </tbody>\n",
       "</table>\n",
       "</div>"
      ],
      "text/plain": [
       "                  brewery_name review_profilename    beer_style beer_name\n",
       "count                     7859               7859          7859      7859\n",
       "unique                     862                  4           103      5189\n",
       "top     Tröegs Brewing Company      BuckeyeNation  American IPA  Pale Ale\n",
       "freq                       155               2347           523        16"
      ]
     },
     "execution_count": 15,
     "metadata": {
      "tags": []
     },
     "output_type": "execute_result"
    }
   ],
   "source": [
    "train.describe(include=['object'])"
   ]
  },
  {
   "cell_type": "markdown",
   "metadata": {
    "colab_type": "text",
    "id": "YxYCZbwRKM-A"
   },
   "source": [
    "Впечатляюще, в некоторых пременных чересчур много уникальных значений. А так как для построения моделей мне придется перекодировать все категориальные переменные в dummy-переменные, это все может вылится в непомерное количество предикторов. Что приведет к ненужному переобучению. Чтобы этого избежать, я избавлюсь от переменных 'brewery_name' и 'beer_name'. \n",
    "Давайте визуализируем оставшиеся переменные, чтобы понять есть ли у каждой зависимость с пресказываемой переменной."
   ]
  },
  {
   "cell_type": "code",
   "execution_count": 0,
   "metadata": {
    "colab": {
     "base_uri": "https://localhost:8080/",
     "height": 678
    },
    "colab_type": "code",
    "id": "qf-0Or80A1LT",
    "outputId": "728cb42f-7531-4fb7-c7ae-c8119e3e6390"
   },
   "outputs": [
    {
     "data": {
      "text/plain": [
       "<matplotlib.axes._subplots.AxesSubplot at 0x7fe2e6411e48>"
      ]
     },
     "execution_count": 31,
     "metadata": {
      "tags": []
     },
     "output_type": "execute_result"
    },
    {
     "data": {
      "image/png": "[encoded data removed]",
      "text/plain": [
       "<Figure size 1152x720 with 1 Axes>"
      ]
     },
     "metadata": {
      "tags": []
     },
     "output_type": "display_data"
    }
   ],
   "source": [
    "# переменная 'beer_style'\n",
    "train.boxplot('review_overall','beer_style')"
   ]
  },
  {
   "cell_type": "markdown",
   "metadata": {
    "colab_type": "text",
    "id": "o2jX3vW2pQWJ"
   },
   "source": [
    "И хотя данный график весьма тяжело воспринимается (а визуализация 103 категорий по другому и не получится), приглядевшись, можно понять, что медианы и inter-quartile range некоторых категорий все же различаются. А значит зависимость между предиктором и зависимой переменной есть.\n",
    "Идем дальше."
   ]
  },
  {
   "cell_type": "code",
   "execution_count": 16,
   "metadata": {
    "colab": {
     "base_uri": "https://localhost:8080/",
     "height": 623
    },
    "colab_type": "code",
    "id": "uOOkImsNXLwC",
    "outputId": "7a6d71df-fdaf-4fa4-d98a-3ff188a572b0"
   },
   "outputs": [
    {
     "data": {
      "text/plain": [
       "<matplotlib.axes._subplots.AxesSubplot at 0x7fee75ef9908>"
      ]
     },
     "execution_count": 16,
     "metadata": {
      "tags": []
     },
     "output_type": "execute_result"
    },
    {
     "data": {
      "image/png": "[encoded data removed]",
      "text/plain": [
       "<Figure size 1152x720 with 1 Axes>"
      ]
     },
     "metadata": {
      "tags": []
     },
     "output_type": "display_data"
    }
   ],
   "source": [
    "# переменная 'review_profilename'\n",
    "sns.violinplot(x=\"review_profilename\", y=\"review_overall\", data=train) "
   ]
  },
  {
   "cell_type": "markdown",
   "metadata": {
    "colab_type": "text",
    "id": "rtOe6a6up6Dg"
   },
   "source": [
    "То же самое для этой переменной, но уже гораздо лучше считываемое - медианы и inter-quartile range некоторых категорий различаются, а значит зависимость между предиктором и зависимой переменной есть.\n",
    "На этом, я считаю, разведывательный анализ можно закончить и, удалив из датасета все переменные, которые мы посчитали ненужными, продолжить с построением модели."
   ]
  },
  {
   "cell_type": "markdown",
   "metadata": {
    "colab_type": "text",
    "id": "wE7p1E2k_lox"
   },
   "source": [
    "#### Манипуляции с данными"
   ]
  },
  {
   "cell_type": "code",
   "execution_count": 17,
   "metadata": {
    "colab": {
     "base_uri": "https://localhost:8080/",
     "height": 217
    },
    "colab_type": "code",
    "id": "4bLmn0aLUG8I",
    "outputId": "9883b6de-b38e-4aaf-89bb-edf1ea0539a0"
   },
   "outputs": [
    {
     "name": "stdout",
     "output_type": "stream",
     "text": [
      "<class 'pandas.core.frame.DataFrame'>\n",
      "RangeIndex: 7859 entries, 0 to 7858\n",
      "Data columns (total 7 columns):\n",
      "review_overall        7859 non-null float64\n",
      "review_aroma          7859 non-null float64\n",
      "review_appearance     7859 non-null float64\n",
      "review_profilename    7859 non-null object\n",
      "beer_style            7859 non-null object\n",
      "review_palate         7859 non-null float64\n",
      "review_taste          7859 non-null float64\n",
      "dtypes: float64(5), object(2)\n",
      "memory usage: 429.9+ KB\n"
     ]
    }
   ],
   "source": [
    "train_drop = train.drop(['beer_abv', 'review_time', 'brewery_name', 'beer_name'], axis=1)\n",
    "train_drop.info()"
   ]
  },
  {
   "cell_type": "markdown",
   "metadata": {
    "colab_type": "text",
    "id": "Gw-ut0WbqXdC"
   },
   "source": [
    "Еще одна маленькая деталь, оставшиеся категориальные переменные надо перекодировать в dummy-переменные."
   ]
  },
  {
   "cell_type": "code",
   "execution_count": 18,
   "metadata": {
    "colab": {
     "base_uri": "https://localhost:8080/",
     "height": 33
    },
    "colab_type": "code",
    "id": "-a7axThe_LDp",
    "outputId": "68b5e870-1153-499f-e256-6ab21d4e761b"
   },
   "outputs": [
    {
     "data": {
      "text/plain": [
       "(7859, 112)"
      ]
     },
     "execution_count": 18,
     "metadata": {
      "tags": []
     },
     "output_type": "execute_result"
    }
   ],
   "source": [
    "data = pd.get_dummies(train_drop).reset_index(drop=True)\n",
    "data.shape"
   ]
  },
  {
   "cell_type": "markdown",
   "metadata": {
    "colab_type": "text",
    "id": "xPMVA9cQqruL"
   },
   "source": [
    "Отлично, таким образом, у нас осталось 112 колонок, 111 из которых это предикторы для модели. Далее можно разделить датасет на тестовую и обучающуюся выборки: на одной модели будут строится, а на другой будет оцениваться их работа."
   ]
  },
  {
   "cell_type": "code",
   "execution_count": 0,
   "metadata": {
    "colab": {},
    "colab_type": "code",
    "id": "d4Lx81Tlo5Dj"
   },
   "outputs": [],
   "source": [
    "y = train['review_overall'].reset_index(drop=True)\n",
    "X = data.iloc[:len(y), :]\n",
    "\n",
    "X_sub = data.iloc[len(y):, :]"
   ]
  },
  {
   "cell_type": "code",
   "execution_count": 0,
   "metadata": {
    "colab": {},
    "colab_type": "code",
    "id": "DTs_HorVo6S3"
   },
   "outputs": [],
   "source": [
    "X_train, X_test, y_train, y_test = train_test_split(X, y, test_size = .2, random_state = 0)"
   ]
  },
  {
   "cell_type": "markdown",
   "metadata": {
    "colab_type": "text",
    "id": "tI4r7-R0reQq"
   },
   "source": [
    "Посмотрим на структуру получившихся выборок."
   ]
  },
  {
   "cell_type": "code",
   "execution_count": 23,
   "metadata": {
    "colab": {
     "base_uri": "https://localhost:8080/",
     "height": 33
    },
    "colab_type": "code",
    "id": "AMwdPKcS4C5c",
    "outputId": "91ca994d-4229-475c-c4b0-f3e01507812a"
   },
   "outputs": [
    {
     "data": {
      "text/plain": [
       "((6287, 112), (6287,), (1572, 112), (1572,))"
      ]
     },
     "execution_count": 23,
     "metadata": {
      "tags": []
     },
     "output_type": "execute_result"
    }
   ],
   "source": [
    "X_train.shape, y_train.shape, X_test.shape, y_test.shape"
   ]
  },
  {
   "cell_type": "markdown",
   "metadata": {
    "colab_type": "text",
    "id": "e9KAVWtmFnib"
   },
   "source": [
    "#### Построение моделей\n",
    "Теперь можно приступить к построению моделей. Итого я планирую сделать 7 моделей, подсчитывая среднюю кваратичную ошибку квадратного отклонения (RMSE metric) их предсказаний, и по итогу выбрать 2 наиболее точно предсказывающие модели. Модели будут включать в себя Ridge и Lasso регрессии, дерево решений, случайный лес, градиентный бустинг и 2 ансамбля из нескольких предыдущих моделей.\n",
    "Чтобы избежать переобучения, я собираюсь использовать кросс-валидацию с 8 фолдами."
   ]
  },
  {
   "cell_type": "code",
   "execution_count": 0,
   "metadata": {
    "colab": {},
    "colab_type": "code",
    "id": "Aqz9Z_C7VxG6"
   },
   "outputs": [],
   "source": [
    "kfolds = KFold(n_splits=8, shuffle=True, random_state=8808)\n",
    "\n",
    "def rmsle(y, y_pred):\n",
    "    return np.sqrt(mean_squared_error(y, y_pred))\n",
    "\n",
    "def cv_rmse(model, X=X):\n",
    "    rmse = np.sqrt(-cross_val_score(model, X, y, scoring=\"neg_mean_squared_error\", cv=kfolds))\n",
    "    return (rmse)"
   ]
  },
  {
   "cell_type": "markdown",
   "metadata": {
    "colab_type": "text",
    "id": "i9tDdrVEs3ss"
   },
   "source": [
    "Следующий чанк с кодом сохраняет значения для параметра alpha, необходимого, чтобы указать **Ridge** и **Lasso** регрессиям, насколько сильной должна быть пенализация весов предикторов, в зависимости от их количества.\n",
    "Оптимальный параметр alpha для модели подбирается вручную. Однако, чтобы не строить модели по несколько раз, я созранила все значения, которые собиралась попробовать заранее. Эти значения различаются в десятках, так как в пределах одной десятой числа alpha разницы между силой пенализации как таковой нет."
   ]
  },
  {
   "cell_type": "code",
   "execution_count": 0,
   "metadata": {
    "colab": {},
    "colab_type": "code",
    "id": "GzVKDPG0V1IS"
   },
   "outputs": [],
   "source": [
    "alphas = [0.00001, 0.0001, 0.001, 0.01, 0.1, 1.0, 10.0]"
   ]
  },
  {
   "cell_type": "markdown",
   "metadata": {
    "colab_type": "text",
    "id": "e9Hk05Bkt2_S"
   },
   "source": [
    "Теперь можно посмтроить модели."
   ]
  },
  {
   "cell_type": "code",
   "execution_count": 0,
   "metadata": {
    "colab": {},
    "colab_type": "code",
    "id": "Ji3UcgADV7sI"
   },
   "outputs": [],
   "source": [
    "ridge = make_pipeline(RobustScaler(), RidgeCV(alphas=alphas, cv=kfolds)) \n",
    "\n",
    "ridge_mod = ridge.fit(X_train, y_train)\n",
    "y_predRidge = ridge_mod.predict(X_test)\n",
    "\n",
    "rmseR = rmsle(y_test, y_predRidge)"
   ]
  },
  {
   "cell_type": "code",
   "execution_count": 27,
   "metadata": {
    "colab": {
     "base_uri": "https://localhost:8080/",
     "height": 33
    },
    "colab_type": "code",
    "id": "zVUtvDX3T3hp",
    "outputId": "29bc4f0b-d666-4f40-cc16-b7b5f38c2196"
   },
   "outputs": [
    {
     "data": {
      "text/plain": [
       "'0.00000000121882318573'"
      ]
     },
     "execution_count": 27,
     "metadata": {
      "tags": []
     },
     "output_type": "execute_result"
    }
   ],
   "source": [
    " f'{rmseR:.20f}'"
   ]
  },
  {
   "cell_type": "markdown",
   "metadata": {
    "colab_type": "text",
    "id": "_5PDDBBgt-Xl"
   },
   "source": [
    "Хорошее начало. Средне-кваратичная ошибка квадратного отклонения довольно мала, учитывая, что шкала предсказывемой переменной берется от 1 до 5."
   ]
  },
  {
   "cell_type": "code",
   "execution_count": 0,
   "metadata": {
    "colab": {},
    "colab_type": "code",
    "id": "k8V57H60V_TN"
   },
   "outputs": [],
   "source": [
    "lasso = make_pipeline(RobustScaler(), LassoCV(alphas=alphas, random_state=8808, cv=kfolds))\n",
    "\n",
    "lasso_mod = lasso.fit(X_train, y_train)\n",
    "y_predLasso = lasso_mod.predict(X_test)\n",
    "\n",
    "rmseL = rmsle(y_test, y_predLasso)"
   ]
  },
  {
   "cell_type": "code",
   "execution_count": 29,
   "metadata": {
    "colab": {
     "base_uri": "https://localhost:8080/",
     "height": 33
    },
    "colab_type": "code",
    "id": "vwUeV9hiT_Em",
    "outputId": "a76d9ef1-826d-4f94-dcd7-4b4e412963c3"
   },
   "outputs": [
    {
     "data": {
      "text/plain": [
       "'0.00000693756723672936'"
      ]
     },
     "execution_count": 29,
     "metadata": {
      "tags": []
     },
     "output_type": "execute_result"
    }
   ],
   "source": [
    " f'{rmseL:.20f}'"
   ]
  },
  {
   "cell_type": "markdown",
   "metadata": {
    "colab_type": "text",
    "id": "u9p2YuekuTaM"
   },
   "source": [
    "Здесь ошибка выходить чуть больше, но все еще довольно маленькая.\n",
    "\n",
    "Следующая модель - **дерево решений**. Для нее я задаю несколько гипер-параметров. Один из них - max_depth, определяющий глубину дерева. Перепробовав значения 4,5,7, я остановилась на последнем. Второй гипер-параметр, min_samples_leaf, определяет минимальное количество наблюдений, которое должно оказаться в терминальном листе дерева. Тут я пробовала значения от 20 до 50, и оказалось, что со значения 34 и ниже дерево начинает предсказывать идеально, RMSE становится по нулям. Не знаю, насколько это возможно, но here it goes."
   ]
  },
  {
   "cell_type": "code",
   "execution_count": 0,
   "metadata": {
    "colab": {},
    "colab_type": "code",
    "id": "gh9G1LxxY5uk"
   },
   "outputs": [],
   "source": [
    "dtree20 = DecisionTreeRegressor(max_depth = 7, min_samples_leaf = 20, random_state = 8808)  \n",
    "  \n",
    "dtree20_mod = dtree20.fit(X_train, y_train)\n",
    "y_predDtree20 = dtree20_mod.predict(X_test)\n",
    "\n",
    "rmseD20 = rmsle(y_test, y_predDtree20)"
   ]
  },
  {
   "cell_type": "code",
   "execution_count": 33,
   "metadata": {
    "colab": {
     "base_uri": "https://localhost:8080/",
     "height": 33
    },
    "colab_type": "code",
    "id": "roJVTty_Ul3K",
    "outputId": "f0db94db-96d7-4273-df64-0e879e0b8ed0"
   },
   "outputs": [
    {
     "data": {
      "text/plain": [
       "'0.00000000000000000000'"
      ]
     },
     "execution_count": 33,
     "metadata": {
      "tags": []
     },
     "output_type": "execute_result"
    }
   ],
   "source": [
    "f'{rmseD20:.20f}'"
   ]
  },
  {
   "cell_type": "markdown",
   "metadata": {
    "colab_type": "text",
    "id": "V5qq8QUxx9gs"
   },
   "source": [
    "Далее модель **градиентного бустинга**. Тут гипер-параметров чуть больше, чем в дереве. \n",
    "> *n_estimators*: количество деревьев, на которых бустинг будет учится. Я пробовала значения 1000, 2000, 3000, 5000, второе оказалось самым действенным (в комбинации с остальными гипер-параметрами).\n",
    "\n",
    "> *learning_rate*: параметр, определяющий, как быстро бустинг будут учится. Значение по дефолту у него 0.1, и, чем ближе к 1 это значение, тем быстрее модель обучается. В то время как 1 будет значить переобучение. Я начала с 0.01 и шла по возрастанию. Оказалось, что чем больше это значение, чем меньше ошибка в предсказании. Это наталкивает на мысль, что возможно для этих данных такая специфическая модель как бустинг не подходит, раз наименьшую ошибку оно выдает при состоянии переобучения, по сути.\n",
    "\n",
    "> *max_depth*: определяет глубину каждого отдельного дерева, которое используется бустингом в процессе построения итоговой модели. Тут я просто оставила то же значение, что использовала в дереве решений.\n",
    "\n",
    "> *max_features*: определяет количество предикторов, которые рассматривает модель при каждом сплите. Вариантов этого значения несколько, я остановилась на 'auto', что означает равное кол-ву предикторов в инпуте моделе, так как все остальные версии строго давали ошибку предсказания больше 0.1.\n",
    "\n",
    "> *min_samples_leaf*: определяет минимальное количество наблюдений, которое остается в терминальном ноде. Перепробовав, значения от 10 до 120, я решила, что оптимальное, вместе с остальными гипер-параметрами, все-таки 10.\n",
    "\n",
    "> *min_samples_split*: минимальное количество наблюдений, необходимое, чтобы сделать сплит в промежуточных нодах. Тут были варианты в интервале от 20 до 80, конечным стало именно значение 50.\n",
    "\n",
    "> *loss*: определяет функцию потерь, которую нужно оптимизировать. Я выбрала 'ls', что означает метод регрессии с помощью наименьших квадратов, так как остальные варианты не делали предсказание бустинга лучше."
   ]
  },
  {
   "cell_type": "code",
   "execution_count": 0,
   "metadata": {
    "colab": {},
    "colab_type": "code",
    "id": "VItyLy4eYg-a"
   },
   "outputs": [],
   "source": [
    "gbr = GradientBoostingRegressor(n_estimators=2000, \n",
    "                                learning_rate=0.8, \n",
    "                                max_depth=7, \n",
    "                                max_features='auto', \n",
    "                                min_samples_leaf=10, \n",
    "                                min_samples_split=50, \n",
    "                                loss='ls', \n",
    "                                random_state =8808) \n",
    "gbr_mod = gbr.fit(X_train, y_train)\n",
    "y_predGBR = gbr_mod.predict(X_test)\n",
    "\n",
    "rmse_gbr = rmsle(y_test, y_predGBR)"
   ]
  },
  {
   "cell_type": "code",
   "execution_count": 44,
   "metadata": {
    "colab": {
     "base_uri": "https://localhost:8080/",
     "height": 33
    },
    "colab_type": "code",
    "id": "apKk8X48UQbQ",
    "outputId": "7da0f5a6-c680-42b5-fbce-105b3bd780e8"
   },
   "outputs": [
    {
     "data": {
      "text/plain": [
       "'0.00022743127993164308'"
      ]
     },
     "execution_count": 44,
     "metadata": {
      "tags": []
     },
     "output_type": "execute_result"
    }
   ],
   "source": [
    " f'{rmse_gbr:.20f}' "
   ]
  },
  {
   "cell_type": "markdown",
   "metadata": {
    "colab_type": "text",
    "id": "UDsYXLMD3wVv"
   },
   "source": [
    "Тут ошибка предсказание уже существенно больше, чем у предыдущих моделей."
   ]
  },
  {
   "cell_type": "markdown",
   "metadata": {
    "colab_type": "text",
    "id": "L8JVglqZ32oQ"
   },
   "source": [
    "Следующая модель - **случайный лес**. Гипер-параметры для нее следующие\n",
    "> *n_estimators*: количество деревьев, которые лес построит. Перепробовав значения 500, 1000, 2000, самым действенным оказалось второе(в комбинации с остальными гипер-параметрами).\n",
    "\n",
    "> *max_depth*: определяет глубину каждого отдельного дерева. Тут я пробовала значения 2,4,7, но в итоге оставила то же, что использовала в дереве решений и бустинге.\n",
    "\n",
    "> *max_features*: определяет количество предикторов, которые рассматривает модель при каждом сплите. Поставлено 'auto', как и в бустинге, по аналогичным причинам.\n",
    "\n",
    "> *min_samples_leaf*: определяет минимальное количество наблюдений, которое остается в терминальном ноде. Я просто оставила то же , что было в градиентном бустинге.\n",
    "\n",
    "> *min_samples_split*: минимальное количество наблюдений, необходимое модели, чтобы сделать сплит в промежуточных нодах деревьев. Опять же, значение выбрано по аналогии с моделью бустинга."
   ]
  },
  {
   "cell_type": "code",
   "execution_count": 0,
   "metadata": {
    "colab": {},
    "colab_type": "code",
    "id": "mjl2lOrxbnZr"
   },
   "outputs": [],
   "source": [
    "rf = RandomForestRegressor(n_estimators = 1000, \n",
    "                           max_depth = 4, \n",
    "                           min_samples_split = 50, \n",
    "                           min_samples_leaf=10,\n",
    "                           max_features = 'auto', \n",
    "                           random_state = 8808)\n",
    "\n",
    "rf_mod = rf.fit(X_train, y_train)\n",
    "y_predRF = rf_mod.predict(X_test)\n",
    "\n",
    "rmseRF = rmsle(y_test, y_predRF)"
   ]
  },
  {
   "cell_type": "code",
   "execution_count": 48,
   "metadata": {
    "colab": {
     "base_uri": "https://localhost:8080/",
     "height": 33
    },
    "colab_type": "code",
    "id": "bFPv_kUDduRh",
    "outputId": "cbe06ec4-0bf5-4a1e-e058-fad25288ecd9"
   },
   "outputs": [
    {
     "data": {
      "text/plain": [
       "'0.00002584983876772358'"
      ]
     },
     "execution_count": 48,
     "metadata": {
      "tags": []
     },
     "output_type": "execute_result"
    }
   ],
   "source": [
    "f'{rmseRF:.20f}'"
   ]
  },
  {
   "cell_type": "markdown",
   "metadata": {
    "colab_type": "text",
    "id": "n0VBxaxk5Rf4"
   },
   "source": [
    "И хотя гипер-параметры были установлены почти такие же, как и в моделе бустинга, ошибка предсказания у случайного леса меньше. Тем не менее, она все еще больше, чем у моделей дерева решений и регрессий.\n",
    "\n",
    "Таким образом, самой лучшей моделью себя на данный момент показывает дерево решений. Второе место почетно занимает Ridge-регрессия, а сразу за ней идет Lasso-регрессия.\n",
    "Теперь же я хочу построить *ансамбль* из этих трех моделей, руководствуясь логикой, что их одиночные предсказания в совместном применении должны давать еще более точный результат.\n",
    "\n",
    "Для начала я попробую самый простой ансамбль, сложив предсказания трех моделей и поделив это на количество моделей. "
   ]
  },
  {
   "cell_type": "code",
   "execution_count": 0,
   "metadata": {
    "colab": {},
    "colab_type": "code",
    "id": "SCJcb4ZF4paq"
   },
   "outputs": [],
   "source": [
    "average_pred=(y_predLasso+y_predRidge+y_predDtree20)/3\n",
    "rmseAv = rmsle(y_test, average_pred)"
   ]
  },
  {
   "cell_type": "code",
   "execution_count": 50,
   "metadata": {
    "colab": {
     "base_uri": "https://localhost:8080/",
     "height": 33
    },
    "colab_type": "code",
    "id": "eh0dEHSf5EK9",
    "outputId": "03644b5f-fa2d-421a-efda-b77758e90624"
   },
   "outputs": [
    {
     "data": {
      "text/plain": [
       "'0.00000231270176068768'"
      ]
     },
     "execution_count": 50,
     "metadata": {
      "tags": []
     },
     "output_type": "execute_result"
    }
   ],
   "source": [
    "f'{rmseAv:.20f}'"
   ]
  },
  {
   "cell_type": "markdown",
   "metadata": {
    "colab_type": "text",
    "id": "VX-BwPl861BW"
   },
   "source": [
    "Да, ошибка действительно стала меньше, чем у обеих регрессий, но все еще не дотягивает до уровня совершенства дерева.\n",
    "\n",
    "Попробуем более сложный ансамбль c помощью **StackingCVRegressor**. Это двухуровневый алгоритм, который на первом уровне берет несколько регрессионных моделей и строит по тренировочной выборке модель и предсказания по ней, который уже на втором уровне передаются в еще одну регрессионную модель, имеющую название мета-регрессора. Чтобы избежать переобучения таким путем, в ансамбль уже встроена кросс-валидация.\n",
    "Схематичное изображение того, как это работает, можно посмотреть на картинке снизу.\n",
    "\n",
    "![alt text](http://rasbt.github.io/mlxtend/user_guide/regressor/StackingCVRegressor_files/stacking_cv_regressor_overview.png)"
   ]
  },
  {
   "cell_type": "markdown",
   "metadata": {
    "colab_type": "text",
    "id": "0OfFJuQl9G9Z"
   },
   "source": [
    "В качестве регрессоров первого уровня я поставила Ridge и Lasso регрессии, а в качестве мета-регрессора - дерево решений, так как оно дает наименьшую ошибку предсказания по трем моделям."
   ]
  },
  {
   "cell_type": "code",
   "execution_count": 0,
   "metadata": {
    "colab": {},
    "colab_type": "code",
    "id": "RP5_HH4K0FA7"
   },
   "outputs": [],
   "source": [
    "stack = StackingCVRegressor(regressors=(lasso, ridge),\n",
    "                            meta_regressor=dtree20, \n",
    "                            use_features_in_secondary=True)\n",
    "\n",
    "stack_mod = stack.fit(np.array(X_train), np.array(y_train))\n",
    "y_predStack = stack_mod.predict(np.array(X_test))\n",
    "\n",
    "rmseSt = rmsle(y_test, y_predStack)"
   ]
  },
  {
   "cell_type": "code",
   "execution_count": 52,
   "metadata": {
    "colab": {
     "base_uri": "https://localhost:8080/",
     "height": 33
    },
    "colab_type": "code",
    "id": "bRcF7Ddx4EI-",
    "outputId": "3abeff07-55e0-45b8-87ef-58536bcbf346"
   },
   "outputs": [
    {
     "data": {
      "text/plain": [
       "'0.00000000000000000000'"
      ]
     },
     "execution_count": 52,
     "metadata": {
      "tags": []
     },
     "output_type": "execute_result"
    }
   ],
   "source": [
    "f'{rmseSt:.20f}'\n"
   ]
  },
  {
   "cell_type": "markdown",
   "metadata": {
    "colab_type": "text",
    "id": "raOdqMt99jp3"
   },
   "source": [
    "И о, вау, получаю идеальное предсказание с ошибкой как у дерева решений."
   ]
  },
  {
   "cell_type": "markdown",
   "metadata": {
    "colab_type": "text",
    "id": "hqdWUsuD5Vdj"
   },
   "source": [
    "На этом построение моделей я считаю правильным закончить, так как у меня очевидно появилось два несомненных лидера, которых я собираюсь использовать для сабмита на Kaggle Leaderboard.\n",
    "\n",
    "На этом этапе мы наконец доходим до файла test.csv, который до этого лежал нетронутым, и делаем на нем предсказания по моделям дерева решений и StackingCVRegressor. Однако, чтобы сделать эти предсказания и собрать их в отдельный файл, нужно предварительно произвести те же манипуляции с предикторами, что и с файлом train.csv до этого.\n"
   ]
  },
  {
   "cell_type": "markdown",
   "metadata": {
    "colab_type": "text",
    "id": "PUZ-l1Yd_wip"
   },
   "source": [
    "#### Итог"
   ]
  },
  {
   "cell_type": "code",
   "execution_count": 53,
   "metadata": {
    "colab": {
     "base_uri": "https://localhost:8080/",
     "height": 317
    },
    "colab_type": "code",
    "id": "NJ7AU2CMhlZy",
    "outputId": "35665dca-acf0-44c3-90f6-e8c3e5cc37d4"
   },
   "outputs": [
    {
     "name": "stdout",
     "output_type": "stream",
     "text": [
      "<class 'pandas.core.frame.DataFrame'>\n",
      "RangeIndex: 1965 entries, 0 to 1964\n",
      "Data columns (total 13 columns):\n",
      "brewery_id            1965 non-null int64\n",
      "brewery_name          1965 non-null object\n",
      "review_time           1965 non-null int64\n",
      "review_aroma          1965 non-null float64\n",
      "review_appearance     1965 non-null float64\n",
      "review_profilename    1965 non-null object\n",
      "beer_style            1965 non-null object\n",
      "review_palate         1965 non-null float64\n",
      "review_taste          1965 non-null float64\n",
      "beer_name             1965 non-null object\n",
      "beer_abv              1782 non-null float64\n",
      "beer_beerid           1965 non-null int64\n",
      "id                    1965 non-null int64\n",
      "dtypes: float64(5), int64(4), object(4)\n",
      "memory usage: 199.7+ KB\n"
     ]
    }
   ],
   "source": [
    "beer_test = pd.read_csv(\"test.csv\")\n",
    "beer_test.info()"
   ]
  },
  {
   "cell_type": "code",
   "execution_count": 54,
   "metadata": {
    "colab": {
     "base_uri": "https://localhost:8080/",
     "height": 33
    },
    "colab_type": "code",
    "id": "R2-GBLyy9QWi",
    "outputId": "7dcdc2e3-d26d-4ebb-e27e-12b67aee45e2"
   },
   "outputs": [
    {
     "data": {
      "text/plain": [
       "(9824, 13)"
      ]
     },
     "execution_count": 54,
     "metadata": {
      "tags": []
     },
     "output_type": "execute_result"
    }
   ],
   "source": [
    "beer_train = pd.read_csv(\"train.csv\")\n",
    "target_drop = beer_train.drop(['review_overall'], axis=1)\n",
    "\n",
    "append = target_drop.append(beer_test)\n",
    "append.shape"
   ]
  },
  {
   "cell_type": "code",
   "execution_count": 55,
   "metadata": {
    "colab": {
     "base_uri": "https://localhost:8080/",
     "height": 200
    },
    "colab_type": "code",
    "id": "yY4qh8vtbJ5q",
    "outputId": "732539cc-e7a9-4a78-dce6-0e2e0300a664"
   },
   "outputs": [
    {
     "name": "stdout",
     "output_type": "stream",
     "text": [
      "<class 'pandas.core.frame.DataFrame'>\n",
      "Int64Index: 9824 entries, 0 to 1964\n",
      "Data columns (total 6 columns):\n",
      "review_aroma          9824 non-null float64\n",
      "review_appearance     9824 non-null float64\n",
      "review_profilename    9824 non-null object\n",
      "beer_style            9824 non-null object\n",
      "review_palate         9824 non-null float64\n",
      "review_taste          9824 non-null float64\n",
      "dtypes: float64(4), object(2)\n",
      "memory usage: 537.2+ KB\n"
     ]
    }
   ],
   "source": [
    "test_new = append.drop(['beer_abv', 'review_time', 'brewery_name', 'beer_name', 'brewery_id', 'id', 'beer_beerid'], axis=1)\n",
    "test_new.info()"
   ]
  },
  {
   "cell_type": "code",
   "execution_count": 56,
   "metadata": {
    "colab": {
     "base_uri": "https://localhost:8080/",
     "height": 33
    },
    "colab_type": "code",
    "id": "iZxwTE1qQu8L",
    "outputId": "4fadebc9-c0fe-44af-d31b-69ba90e3f0f2"
   },
   "outputs": [
    {
     "data": {
      "text/plain": [
       "(9824, 111)"
      ]
     },
     "execution_count": 56,
     "metadata": {
      "tags": []
     },
     "output_type": "execute_result"
    }
   ],
   "source": [
    "test_features = pd.get_dummies(test_new).reset_index(drop=True)\n",
    "test_features.shape"
   ]
  },
  {
   "cell_type": "code",
   "execution_count": 57,
   "metadata": {
    "colab": {
     "base_uri": "https://localhost:8080/",
     "height": 33
    },
    "colab_type": "code",
    "id": "7oqi5OQHcHGs",
    "outputId": "2526af94-a554-4cc8-e201-bc3ff2aa8d26"
   },
   "outputs": [
    {
     "data": {
      "text/plain": [
       "(1965, 112)"
      ]
     },
     "execution_count": 57,
     "metadata": {
      "tags": []
     },
     "output_type": "execute_result"
    }
   ],
   "source": [
    "test_features = data.iloc[:1965,]\n",
    "test_features.shape"
   ]
  },
  {
   "cell_type": "markdown",
   "metadata": {
    "colab_type": "text",
    "id": "0jdLhoaa-wMy"
   },
   "source": [
    "Окей, теперь все готово для построения двух итоговых предсказаний и сохранения их в отдельные файлы для сабмишена."
   ]
  },
  {
   "cell_type": "code",
   "execution_count": 0,
   "metadata": {
    "colab": {},
    "colab_type": "code",
    "id": "loCr-Pl45e45"
   },
   "outputs": [],
   "source": [
    "predictions1 = dtree20_mod.predict(test_features)\n",
    "\n",
    "submission1 = pd.DataFrame({'Id': beer_test['id'], 'Predicted': predictions1})\n",
    "submission1.to_csv('submission1.csv', index=False)"
   ]
  },
  {
   "cell_type": "code",
   "execution_count": 0,
   "metadata": {
    "colab": {},
    "colab_type": "code",
    "id": "lvY7w-ayeqsJ"
   },
   "outputs": [],
   "source": [
    "predictions2 = stack_mod.predict(test_features)\n",
    "\n",
    "submission2 = pd.DataFrame({'Id': beer_test['id'], 'Predicted': predictions2})\n",
    "submission2.to_csv('submission2.csv', index=False)"
   ]
  },
  {
   "cell_type": "markdown",
   "metadata": {
    "colab_type": "text",
    "id": "-6dIe00y_Ho7"
   },
   "source": [
    "Ну что ж, на этом все. Спасибо за внимание, надеюсь, Вам понравилось :)\n",
    "\n",
    "Два файла с предсказаниями я загрузила в выбранное соревнование на Kaggle. Однако почему-то на лидерборде мой профиль так и не отразился. Возможно это связано с тем, что соревнование уже завершилось (добавлено было около 2х недель назад). Прилагаю скрины двух моих сабмишенов:\n",
    "\n",
    "![](https://sun9-63.userapi.com/c854128/v854128164/1ad3c4/oM6U6ZUdPeE.jpg)\n",
    "\n",
    "![alt text](https://sun9-6.userapi.com/c854128/v854128164/1ad3ce/9UC-RibK9To.jpg)\n",
    "К слову, если бы я и попала на лидерборд, то была бы последняя.\n",
    "\n",
    "В любом случае мой профиль на Kaggle доступен по следующей ссылке:\n",
    "<https://www.kaggle.com/ariarerra>"
   ]
  }
 ],
 "metadata": {
  "colab": {
   "collapsed_sections": [],
   "name": "Moroz_ML.ipynb",
   "provenance": [],
   "toc_visible": true
  },
  "kernelspec": {
   "display_name": "Python 3",
   "language": "python",
   "name": "python3"
  },
  "language_info": {
   "codemirror_mode": {
    "name": "ipython",
    "version": 3
   },
   "file_extension": ".py",
   "mimetype": "text/x-python",
   "name": "python",
   "nbconvert_exporter": "python",
   "pygments_lexer": "ipython3",
   "version": "3.7.3"
  }
 },
 "nbformat": 4,
 "nbformat_minor": 1
}
